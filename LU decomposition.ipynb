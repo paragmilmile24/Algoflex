{
  "nbformat": 4,
  "nbformat_minor": 0,
  "metadata": {
    "colab": {
      "name": "Untitled1.ipynb",
      "provenance": [],
      "authorship_tag": "ABX9TyN/4fzbULHYYX3rEI8NsZ8T",
      "include_colab_link": true
    },
    "kernelspec": {
      "name": "python3",
      "display_name": "Python 3"
    },
    "language_info": {
      "name": "python"
    }
  },
  "cells": [
    {
      "cell_type": "markdown",
      "metadata": {
        "id": "view-in-github",
        "colab_type": "text"
      },
      "source": [
        "<a href=\"https://colab.research.google.com/github/paragmilmile24/Algoflex/blob/master/LU%20decomposition.ipynb\" target=\"_parent\"><img src=\"https://colab.research.google.com/assets/colab-badge.svg\" alt=\"Open In Colab\"/></a>"
      ]
    },
    {
      "cell_type": "code",
      "execution_count": 1,
      "metadata": {
        "colab": {
          "base_uri": "https://localhost:8080/"
        },
        "id": "fNZbwjPVuwaH",
        "outputId": "494aa961-ca68-41a4-9382-dddee726b1a8"
      },
      "outputs": [
        {
          "output_type": "stream",
          "name": "stdout",
          "text": [
            "Writing input.c\n"
          ]
        }
      ],
      "source": [
        "%%writefile input.c\n",
        "//Initial code to make binary files\n",
        "#include<stdio.h>\n",
        "#include<stdlib.h>\n",
        "void main()\n",
        "{\n",
        "    FILE *input;\n",
        "    if((input = fopen(\"/content/in.dat\",\"ab+\")) == NULL)\n",
        "    {\n",
        "        printf(\"Error! opening input file\");\n",
        "        exit(1);\n",
        "    }\n",
        "    float A[3][3]= {0};\n",
        "    float B[3]= {0};\n",
        "    int i,j,n;\n",
        "    printf(\"Enter the order of square matrix: \");\n",
        "    scanf(\"%d\",&n);\n",
        "    printf(\"\\nEnter matrix element:\\n\");\n",
        "    for(i=0; i<n; i++)\n",
        "    {\n",
        "        for(j=0; j<n; j++)\n",
        "        {\n",
        "            printf(\"Enter A[%d][%d] element: \", i,j);\n",
        "            scanf(\"%f\",&A[i][j]);\n",
        "            fwrite(&A[i][j],sizeof(A[i][j]),1,input);\n",
        "        }\n",
        "    }\n",
        "    printf(\"\\nEnter the constant terms: \\n\");\n",
        "    for(i=0; i<n; i++)\n",
        "    {\n",
        "        printf(\"B[%d]: \",i);\n",
        "        scanf(\"%f\",&B[i]);\n",
        "        fwrite(&B[i],sizeof(B[i]),1,input);\n",
        "    }\n",
        "    fclose(input);\n",
        "}"
      ]
    },
    {
      "cell_type": "code",
      "source": [
        "%%shell\n",
        "gcc input.c -o infile\n",
        "./infile"
      ],
      "metadata": {
        "colab": {
          "base_uri": "https://localhost:8080/"
        },
        "id": "e9KdzGVju8bL",
        "outputId": "c3c478a7-240d-4cdb-a767-f4c0ec9ac82b"
      },
      "execution_count": 2,
      "outputs": [
        {
          "output_type": "stream",
          "name": "stdout",
          "text": [
            "Enter the order of square matrix: 3\n",
            "\n",
            "Enter matrix element:\n",
            "Enter A[0][0] element: 1\n",
            "Enter A[0][1] element: 1\n",
            "Enter A[0][2] element: 1\n",
            "Enter A[1][0] element: 4\n",
            "Enter A[1][1] element: 3\n",
            "Enter A[1][2] element: -1\n",
            "Enter A[2][0] element: 3\n",
            "Enter A[2][1] element: 5\n",
            "Enter A[2][2] element: 3\n",
            "\n",
            "Enter the constant terms: \n",
            "B[0]: 1\n",
            "B[1]: 6\n",
            "B[2]: 4\n"
          ]
        },
        {
          "output_type": "execute_result",
          "data": {
            "text/plain": [
              ""
            ]
          },
          "metadata": {},
          "execution_count": 2
        }
      ]
    },
    {
      "cell_type": "code",
      "source": [
        "%%writefile LU_decomposition_method.c\n",
        "//LU Decomposition Algorithm\n",
        "#include<stdio.h>\n",
        "#include<stdlib.h>\n",
        "//AX=B  Consider A=LU where L is lower Triangular matrix\n",
        "//U is upper triangular matrix\n",
        "// LUX=B Let Y=UX hence LY=B\n",
        "\n",
        "void main()\n",
        "{\n",
        "    FILE *input,*output;\n",
        "    if((input = fopen(\"/content/in.dat\",\"ab+\")) == NULL)\n",
        "    {\n",
        "        printf(\"Error! opening input file\");\n",
        "        exit(1);\n",
        "    }\n",
        "    if((output = fopen(\"/content/out.dat\",\"ab+\")) == NULL)\n",
        "    {\n",
        "        printf(\"Error! opening output file\");\n",
        "        exit(1);\n",
        "    }\n",
        "    float A[3][3]= {0},L[3][3]= {0}, U[3][3];\n",
        "    float B[3]= {0}, X[3]= {0},Y[3]= {0};\n",
        "    int i,j,k,n;\n",
        "    printf(\"Enter the order of square matrix: \");\n",
        "    scanf(\"%d\",&n);\n",
        "    //reading input from file\n",
        "    fseek(input, 0, SEEK_SET);\n",
        "    for(i=0; i<n; i++)\n",
        "    {\n",
        "        for(j=0; j<n; j++)\n",
        "        {\n",
        "            fread(&A[i][j], sizeof(float), 1, input);\n",
        "        }\n",
        "    }\n",
        "    for(i=0; i<n; i++)\n",
        "    {\n",
        "        fread(&B[i], sizeof(float), 1, input);\n",
        "    }\n",
        "\n",
        "   //calculating upper triangular matrix\n",
        "   for (int i = 0; i < n; i++)\n",
        "\t{\n",
        "\t\t// Upper Triangular\n",
        "\t\tfor (int k = i; k < n; k++)\n",
        "\t\t{\n",
        "\t\t\t// Summation of L(i, j) * U(j, k)\n",
        "\t\t\tint sum = 0;\n",
        "\t\t\tfor (int j = 0; j < i; j++)\n",
        "\t\t\t\tsum += (L[i][j] * U[j][k]);\n",
        "\n",
        "\t\t\t// Evaluating U(i, k)\n",
        "\t\t\tU[i][k] = A[i][k] - sum;\n",
        "\t\t}\n",
        "  \n",
        "\t\t// Lower Triangular\n",
        "\t\tfor (int k = i; k < n; k++)\n",
        "\t\t{\n",
        "\t\t\tif (i == k)\n",
        "\t       L[i][i] = 1; // Diagonal as 1\n",
        "\t\t\telse\n",
        "\t\t\t{\n",
        "\t\t\t\t// Summation of L(k, j) * U(j, i)\n",
        "\t\t\t\tint sum = 0;\n",
        "\t\t\t\tfor (int j = 0; j < i; j++)\n",
        "\t\t\t\t\tsum += (L[k][j] * U[j][i]);\n",
        "\n",
        "\t\t\t\t// Evaluating L(k, i)\n",
        "\t\t\t\tL[k][i]\n",
        "\t\t\t\t\t= (A[k][i] - sum) / U[i][i];\n",
        "\t\t\t}\n",
        "\t\t}\n",
        "\t}\n",
        "    printf(\"Lower triangular matrix\\n[L]: \\n\");\n",
        "    for(i=0; i<n; i++)\n",
        "    {\n",
        "        for(j=0; j<n; j++)\n",
        "            printf(\"%9.3f\",L[i][j]);\n",
        "        printf(\"\\n\");\n",
        "    }\n",
        "    printf(\"\\n\\nUpper triangular matrix\\n[U]: \\n\");\n",
        "    for(i=0; i<n; i++)\n",
        "    {\n",
        "        for(j=0; j<n; j++)\n",
        "            printf(\"%9.3f\",U[i][j]);\n",
        "        printf(\"\\n\");\n",
        "    }\n",
        "    for(i=0; i<n; i++)\n",
        "    {\n",
        "        Y[i]=B[i];\n",
        "        for(j=0; j<i; j++)\n",
        "        {\n",
        "            Y[i]-=L[i][j]*Y[j];\n",
        "        }\n",
        "    }\n",
        "    printf(\"\\n\\n[Y]: \\n\");\n",
        "    for(i=0; i<n; i++)\n",
        "    {\n",
        "        printf(\"%9.3f\",Y[i]);\n",
        "    }\n",
        "    for(i=n-1; i>=0; i--)\n",
        "    {\n",
        "        X[i]= Y[i];\n",
        "        for(j=i+1; j<n; j++)\n",
        "        {\n",
        "            X[i]-=U[i][j]*X[j];\n",
        "        }\n",
        "        X[i]/=U[i][i];\n",
        "    }\n",
        "    printf(\"\\n\\nOUTPUT\\n[X]: \\n\");\n",
        "    for(i=0; i<n; i++)\n",
        "    {\n",
        "        printf(\"%9.3f\",X[i]);\n",
        "        fwrite(&X[i],sizeof(X[i]),1,output);\n",
        "    }\n",
        "    fclose(input);\n",
        "    fclose(output);\n",
        "}\n"
      ],
      "metadata": {
        "colab": {
          "base_uri": "https://localhost:8080/"
        },
        "id": "n3dEuRL2vQDO",
        "outputId": "eae5ff3c-1f22-42a3-e0a6-a53dd9206e3f"
      },
      "execution_count": 3,
      "outputs": [
        {
          "output_type": "stream",
          "name": "stdout",
          "text": [
            "Writing LU_decomposition_method.c\n"
          ]
        }
      ]
    },
    {
      "cell_type": "code",
      "source": [
        "%%shell\n",
        "gcc LU_decomposition_method.c -o answer\n",
        "./answer"
      ],
      "metadata": {
        "colab": {
          "base_uri": "https://localhost:8080/"
        },
        "id": "TdlmJX1YvZfz",
        "outputId": "6f44c76c-9871-4169-b50c-71ced7e8ac30"
      },
      "execution_count": 4,
      "outputs": [
        {
          "output_type": "stream",
          "name": "stdout",
          "text": [
            "Enter the order of square matrix: 3\n",
            "Lower triangular matrix\n",
            "[L]: \n",
            "    1.000    0.000    0.000\n",
            "    4.000    1.000    0.000\n",
            "    3.000   -2.000    1.000\n",
            "\n",
            "\n",
            "Upper triangular matrix\n",
            "[U]: \n",
            "    1.000    1.000    1.000\n",
            "    0.000   -1.000   -5.000\n",
            "   -0.000    0.000  -10.000\n",
            "\n",
            "\n",
            "[Y]: \n",
            "    1.000    2.000    5.000\n",
            "\n",
            "OUTPUT\n",
            "[X]: \n",
            "    1.000    0.500   -0.500"
          ]
        },
        {
          "output_type": "execute_result",
          "data": {
            "text/plain": [
              ""
            ]
          },
          "metadata": {},
          "execution_count": 4
        }
      ]
    }
  ]
}